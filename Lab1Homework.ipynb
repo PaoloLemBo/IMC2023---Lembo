{
  "nbformat": 4,
  "nbformat_minor": 0,
  "metadata": {
    "colab": {
      "provenance": [],
      "authorship_tag": "ABX9TyM0L5r9iy5NaKu89ZMH7q2j",
      "include_colab_link": true
    },
    "kernelspec": {
      "name": "python3",
      "display_name": "Python 3"
    },
    "language_info": {
      "name": "python"
    }
  },
  "cells": [
    {
      "cell_type": "markdown",
      "metadata": {
        "id": "view-in-github",
        "colab_type": "text"
      },
      "source": [
        "<a href=\"https://colab.research.google.com/github/PaoloLemBo/IMC2023-Lembo/blob/main/Lab1Homework.ipynb\" target=\"_parent\"><img src=\"https://colab.research.google.com/assets/colab-badge.svg\" alt=\"Open In Colab\"/></a>"
      ]
    },
    {
      "cell_type": "code",
      "execution_count": 1,
      "metadata": {
        "id": "9icQC2qVlLbF"
      },
      "outputs": [],
      "source": [
        "# Import the necessary libraries\n",
        "import librosa\n",
        "import librosa.display\n",
        "import numpy as np\n",
        "import matplotlib.pylab as plt"
      ]
    },
    {
      "cell_type": "code",
      "source": [
        "!git clone https://github.com/jcdevaney/imc2023.git"
      ],
      "metadata": {
        "colab": {
          "base_uri": "https://localhost:8080/"
        },
        "id": "a1-ovqOMlpdE",
        "outputId": "1494c80e-7c93-47a0-c04b-4bb352e87019"
      },
      "execution_count": 3,
      "outputs": [
        {
          "output_type": "stream",
          "name": "stdout",
          "text": [
            "Cloning into 'imc2023'...\n",
            "remote: Enumerating objects: 82, done.\u001b[K\n",
            "remote: Counting objects: 100% (82/82), done.\u001b[K\n",
            "remote: Compressing objects: 100% (78/78), done.\u001b[K\n",
            "remote: Total 82 (delta 33), reused 14 (delta 1), pack-reused 0\u001b[K\n",
            "Unpacking objects: 100% (82/82), 5.83 MiB | 6.88 MiB/s, done.\n"
          ]
        }
      ]
    },
    {
      "cell_type": "code",
      "source": [
        "def readAudioFile(file, sampling_rate):\n",
        "    # Load the audio file using librosa.load with the specified sampling rate\n",
        "    file = 'imc2023/audioFiles/avm.wav'\n",
        "    sampling_rate = 44100 \n",
        "    sig, sr = librosa.load(file, mono=True, sr=sampling_rate)\n",
        "    \n",
        "# Make x-axis represent time in seconds\n",
        "time = np.arange(0, sig.shape[0]) / sr\n",
        "    \n",
        "# Normalize the signal to have an excursion of 1\n",
        "excursion = max(abs(sig))\n",
        "sigNew = sig / excursion\n",
        "    \n",
        "# Plot the waveform representation\n",
        "plt.plot(time, sigNew)\n",
        "    \n",
        "# Label the axes\n",
        "plt.xlabel('Time (seconds)')\n",
        "plt.ylabel('Amplitude')"
      ],
      "metadata": {
        "colab": {
          "base_uri": "https://localhost:8080/",
          "height": 296
        },
        "id": "7Sa9c--nlMoU",
        "outputId": "1a903377-4c90-458d-917a-dfc81ee95409"
      },
      "execution_count": 11,
      "outputs": [
        {
          "output_type": "execute_result",
          "data": {
            "text/plain": [
              "Text(0, 0.5, 'Amplitude')"
            ]
          },
          "metadata": {},
          "execution_count": 11
        },
        {
          "output_type": "display_data",
          "data": {
            "text/plain": [
              "<Figure size 432x288 with 1 Axes>"
            ],
            "image/png": "[encoded data removed]"
          },
          "metadata": {
            "needs_background": "light"
          }
        }
      ]
    },
    {
      "cell_type": "code",
      "source": [
        "# open avm.wav with librosa.load with new sample rate of 441\n",
        "file = 'imc2023/audioFiles/avm.wav'\n",
        "samplingRate = 441\n",
        "sig, sr = librosa.load(file, mono=True, sr=samplingRate)"
      ],
      "metadata": {
        "id": "O3-icfM4liaY"
      },
      "execution_count": 12,
      "outputs": []
    },
    {
      "cell_type": "code",
      "source": [
        "## Generating the graph with a sample rate of 441\n",
        "# excursion for y-axis\n",
        "excursion = max(abs(sig))\n",
        "sigNew=sig/excursion\n",
        "\n",
        "# convert x-axis to represent Time(Second)\n",
        "time = np.arange(0,sig.shape[0])/sr\n",
        "plt.plot(time,sigNew)\n",
        "# label the x-axis and y-axis\n",
        "plt.xlabel('Time(Seconds)')\n",
        "plt.ylabel('Amplitude')"
      ],
      "metadata": {
        "colab": {
          "base_uri": "https://localhost:8080/",
          "height": 298
        },
        "id": "7lBcbwl8nUjA",
        "outputId": "670c4572-cfc1-45df-cd22-9456007076c4"
      },
      "execution_count": 13,
      "outputs": [
        {
          "output_type": "execute_result",
          "data": {
            "text/plain": [
              "Text(0, 0.5, 'Amplitude')"
            ]
          },
          "metadata": {},
          "execution_count": 13
        },
        {
          "output_type": "display_data",
          "data": {
            "text/plain": [
              "<Figure size 432x288 with 1 Axes>"
            ],
            "image/png": "[encoded data removed]"
          },
          "metadata": {
            "needs_background": "light"
          }
        }
      ]
    },
    {
      "cell_type": "code",
      "source": [],
      "metadata": {
        "id": "dWkR7567nZWv"
      },
      "execution_count": null,
      "outputs": []
    }
  ]
}